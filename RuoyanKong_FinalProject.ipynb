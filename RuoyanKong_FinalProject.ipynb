{
 "cells": [
  {
   "cell_type": "markdown",
   "metadata": {},
   "source": [
    "# Final Project -- Deep Learning for Named Entity Recognition\n",
    "# Author: Ruoyan Kong\n",
    "# Date: 04/20/2019"
   ]
  },
  {
   "cell_type": "markdown",
   "metadata": {},
   "source": [
    "# 1. Overview\n",
    "## Goals:\n",
    "This notebook's goal is to use Bidirectional LSTM + CNN model to solve the name entity recogonition problem (tagging entities in text with their corresponding type). We use the Reuters News Corpus Dataset to test our model.\n",
    "\n",
    "Here are helpful refernces (the dataset is updated so our result is different from the reference):\n",
    "\n",
    "https://towardsdatascience.com/deep-learning-for-named-entity-recognition-2-implementing-the-state-of-the-art-bidirectional-lstm-4603491087f1\n",
    "\n",
    "https://github.com/mxhofer/Named-Entity-Recognition-BidirectionalLSTM-CNN-CoNLL\n",
    "\n",
    "## Problems -- Language-Independent Named Entity Recognition Task (NER):\n",
    "Named entity recognition (NER) is the task of tagging entities in text with their corresponding type. Approaches typically use BIO notation, which differentiates the beginning (B) and the inside (I) of entities. O is used for non-entity tokens.\n",
    "\n",
    "This notebook shows the data analysis process, the model building, and the performance analysis.\n",
    "\n",
    "## Models -- BLSTM, LSTM (baseline model):\n",
    "Long short-term memory (LSTM) cells are the building block of recurrent neural networks (RNNs). While plain LSTM cells in a feedforward neural network process text just like humans do (from left to right), BLSTMs also consider the opposite direction. This allows the model to uncover more patterns as the amount of input information is increased. In other words, the model not only considers the sequence of tokens after a token of interest, but also before the token of interest.\n",
    "\n",
    "### Why is BLSTM+CNN suitable for NER problem?\n",
    "BLSTM+CNN learns both character- and word-level features, uses context with a flexible window\n",
    "around each word – an approach that utilize useful long-distance relations between words. Exploiting explicit character level features such as prefix and suffix could be useful especially with rare words where word embeddings are poorly trained.\n"
   ]
  },
  {
   "cell_type": "markdown",
   "metadata": {},
   "source": [
    "# 2. Data\n",
    "## CoNLL-2003 named entity data\n",
    "from paper: Introduction to the CoNLL-2003 Shared Task: Language-Independent Named Entity Recognition\n",
    "\n",
    "The CoNLL-2003 named entity data consists of eight files covering two languages: English and German\n",
    "\n",
    "1. For each of the languages there is a training file, a development file, a test file and a large file with unannotated data. The English data was taken from the Reuters Corpus\n",
    "\n",
    "2. This corpus consists of Reuters news stories between August 1996 and August 1997. For the training and development set, ten days’ worth of data were taken from the files representing the end of August 1996. For the test set, the texts were from December 1996. The preprocessed raw data covers the month of September 1996.\n",
    "\n",
    "Here are the official CoNLL 2003 introduction paper https://www.aclweb.org/anthology/W03-0419.\n",
    "\n",
    "To build the English-language corpus we need the RCV1 Reuters corpus (You will obtain access a couple days after submitting the organisational and individual agreement at no charge) https://trec.nist.gov/data/reuters/reuters.html."
   ]
  },
  {
   "cell_type": "markdown",
   "metadata": {},
   "source": [
    "## Data Processing"
   ]
  },
  {
   "cell_type": "code",
   "execution_count": 2,
   "metadata": {},
   "outputs": [
    {
     "name": "stderr",
     "output_type": "stream",
     "text": [
      "Using TensorFlow backend.\n"
     ]
    }
   ],
   "source": [
    "\"\"\"Packages\"\"\"\n",
    "import pydot\n",
    "import numpy as np\n",
    "from keras.models import Model, load_model\n",
    "from keras.layers import TimeDistributed, Conv1D, Dense, Embedding, Input, Dropout, LSTM, Bidirectional, MaxPooling1D, \\\n",
    "    Flatten, concatenate\n",
    "from keras.utils import plot_model\n",
    "from keras.initializers import RandomUniform\n",
    "from keras.optimizers import SGD, Nadam\n",
    "import random\n",
    "from keras.preprocessing.sequence import pad_sequences\n",
    "import matplotlib.pyplot as plt\n",
    "%matplotlib inline"
   ]
  },
  {
   "cell_type": "markdown",
   "metadata": {},
   "source": [
    "## Data Format\n",
    "Entities are annotated with LOC (location), ORG (organisation), PER (person) and MISC (miscellaneous). \n",
    "\n",
    "The data files contain one word per line. Empty lines have been used\n",
    "for marking sentence boundaries and a line containing the keyword\n",
    "-DOCSTART- has been added to the beginning of each article in order\n",
    "to mark article boundaries. Each non-empty line contains the following \n",
    "tokens:\n",
    "\n",
    "   1. the current word\n",
    "   2. the part-of-speech (POS) tag generated by a tagger\n",
    "   3. the chunk tag generated by a text chunker\n",
    "   4. the named entity tag given by human annotators\n",
    "   \n",
    "The tagger and chunker for English are roughly similar to the \n",
    "ones used in the memory-based shallow parser demo available at \n",
    "http://ilk.uvt.nl/\n",
    "\n",
    "The chunk tags and the named entity tags use the IOB1 format. This \n",
    "means that in general words inside entity receive the tag I-TYPE\n",
    "to denote that they are Inside an entity of type TYPE. Whenever\n",
    "two entities of the same type immediately follow each other, the \n",
    "first word of the second entity will receive tag B-TYPE rather than\n",
    "I-TYPE in order to show that a new entity starts at that word."
   ]
  },
  {
   "cell_type": "code",
   "execution_count": 3,
   "metadata": {},
   "outputs": [
    {
     "name": "stdout",
     "output_type": "stream",
     "text": [
      "[word] [POS tag] [chunk tag] [NER tag]\n",
      "-DOCSTART- -X- O O\n",
      "\n",
      "\n",
      "\n",
      "EU NNP I-NP I-ORG\n",
      "\n",
      "rejects VBZ I-VP O\n",
      "\n",
      "German JJ I-NP I-MISC\n",
      "\n",
      "call NN I-NP O\n",
      "\n",
      "to TO I-VP O\n",
      "\n",
      "boycott VB I-VP O\n",
      "\n",
      "British JJ I-NP I-MISC\n",
      "\n",
      "lamb NN I-NP O\n",
      "\n",
      ". . O O\n",
      "\n",
      "\n",
      "\n",
      "Peter NNP I-NP I-PER\n",
      "\n",
      "Blackburn NNP I-NP I-PER\n",
      "\n",
      "\n",
      "\n",
      "BRUSSELS NNP I-NP I-LOC\n",
      "\n",
      "1996-08-22 CD I-NP O\n",
      "\n",
      "\n",
      "\n",
      "The DT I-NP O\n",
      "\n",
      "European NNP I-NP I-ORG\n",
      "\n"
     ]
    }
   ],
   "source": [
    "trainfilename = './data/eng.train'\n",
    "testafilename = './data/eng.testa'\n",
    "testbfilename = './data/eng.testb'\n",
    "with open(trainfilename) as myfile:\n",
    "    head = [next(myfile) for x in range(20)]\n",
    "print(\"[word] [POS tag] [chunk tag] [NER tag]\")\n",
    "for line in head:\n",
    "    print(line)\n",
    "    "
   ]
  },
  {
   "cell_type": "markdown",
   "metadata": {},
   "source": [
    "For example, in \"EU rejects German call to boycott British lamb\" we have 3 entities, EU is organization, German and British is miscellaneous.\n",
    "\n",
    "We build a CNN_BLSTM class to build the data strucuture of the NER problem."
   ]
  },
  {
   "cell_type": "code",
   "execution_count": 4,
   "metadata": {},
   "outputs": [],
   "source": [
    "class CNN_BLSTM(object):\n",
    "    def readfile(self, filename):\n",
    "        '''\n",
    "        read file\n",
    "        return format :\n",
    "        [ ['EU', 'B-ORG'], ['rejects', 'O'], ['call', 'O'], ['to', 'O'], ['boycott', 'O'], ['British', 'B-MISC'], ['lamb', 'O'], ['.', 'O'] ]\n",
    "        '''\n",
    "        stat = {\"Article_n\":0, \"Sentence_n\":0, \"Token_n\":0, \"Article_Sentence_n\": [], \"Article_Word_n\": [], \"Sentence_Word_n\": []}\n",
    "        f = open(filename)\n",
    "        sentences = []\n",
    "        sentence = []\n",
    "        ASN = -1\n",
    "        AWN = 0\n",
    "        SWN = 0\n",
    "        for line in f:\n",
    "            if len(line) == 0 or line.startswith('-DOCSTART') or line[0] == \"\\n\":\n",
    "                if line.startswith('-DOCSTART'):\n",
    "                    stat[\"Article_n\"] += 1\n",
    "                    if ASN == -1:\n",
    "                        ASN = 0\n",
    "                    else:\n",
    "                        stat[\"Article_Sentence_n\"].append(ASN)\n",
    "                        stat[\"Article_Word_n\"].append(AWN)\n",
    "                        ASN = 0\n",
    "                        AWN = 0\n",
    "                if len(sentence) > 0:\n",
    "                    ASN += 1\n",
    "                    AWN += len(sentence)\n",
    "                    stat[\"Sentence_Word_n\"].append(len(sentence))\n",
    "                    sentences.append(sentence)\n",
    "                    stat[\"Sentence_n\"] += 1\n",
    "                    stat[\"Token_n\"] += len(sentence)\n",
    "                    sentence = []\n",
    "                continue\n",
    "            splits = line.split(' ')\n",
    "            sentence.append([splits[0], splits[-1]])\n",
    "\n",
    "        if len(sentence) > 0:\n",
    "            sentences.append(sentence)\n",
    "            sentence = []\n",
    "        return sentences, stat\n",
    "    \n",
    "    def loadData(self):\n",
    "        self.trainSentences, self.trainSentences_stat = self.readfile(trainfilename)\n",
    "        self.devSentences, self.devSentences_stat = self.readfile(testafilename)\n",
    "        self.testSentences, self.testSentences_stat = self.readfile(testbfilename)"
   ]
  },
  {
   "cell_type": "code",
   "execution_count": 5,
   "metadata": {},
   "outputs": [],
   "source": [
    "self = CNN_BLSTM()\n",
    "self.loadData()"
   ]
  },
  {
   "cell_type": "markdown",
   "metadata": {},
   "source": [
    "Now each element of the sentences set is [word, entity] for all words in a sentence:"
   ]
  },
  {
   "cell_type": "code",
   "execution_count": 6,
   "metadata": {},
   "outputs": [
    {
     "name": "stdout",
     "output_type": "stream",
     "text": [
      "[['EU', 'I-ORG\\n'], ['rejects', 'O\\n'], ['German', 'I-MISC\\n'], ['call', 'O\\n'], ['to', 'O\\n'], ['boycott', 'O\\n'], ['British', 'I-MISC\\n'], ['lamb', 'O\\n'], ['.', 'O\\n']]\n",
      "[['Peter', 'I-PER\\n'], ['Blackburn', 'I-PER\\n']]\n"
     ]
    }
   ],
   "source": [
    "for line in self.trainSentences[:2]:\n",
    "    print(line)"
   ]
  },
  {
   "cell_type": "markdown",
   "metadata": {},
   "source": [
    "# 3. Exploratory Data Analysis \n",
    "## size of dataset\n",
    "In the trainset, we have 946 articles, 14041 sentences, 203621 words. In the development set, we have 216 articles, 3250 sentences, 51362 words. In the testset, we have 231 articles, 3453 sentences, 46435 words."
   ]
  },
  {
   "cell_type": "code",
   "execution_count": 7,
   "metadata": {},
   "outputs": [
    {
     "name": "stdout",
     "output_type": "stream",
     "text": [
      "Size of trainset\n",
      "{'Article_n': 946, 'Sentence_n': 14041, 'Token_n': 203621}\n",
      "Size of developmentset\n",
      "{'Article_n': 216, 'Sentence_n': 3250, 'Token_n': 51362}\n",
      "Size of testset\n",
      "{'Article_n': 231, 'Sentence_n': 3453, 'Token_n': 46435}\n"
     ]
    }
   ],
   "source": [
    "print('Size of trainset')\n",
    "print({x: self.trainSentences_stat[x] for x in [\"Article_n\",\"Sentence_n\",\"Token_n\"]})\n",
    "print('Size of developmentset')\n",
    "print({x: self.devSentences_stat[x] for x in [\"Article_n\",\"Sentence_n\",\"Token_n\"]})\n",
    "print('Size of testset')\n",
    "print({x: self.testSentences_stat[x] for x in [\"Article_n\",\"Sentence_n\",\"Token_n\"]})\n"
   ]
  },
  {
   "cell_type": "markdown",
   "metadata": {},
   "source": [
    "## number of entities"
   ]
  },
  {
   "cell_type": "code",
   "execution_count": 8,
   "metadata": {},
   "outputs": [],
   "source": [
    "def entity_stat(self):\n",
    "    result = []\n",
    "    for sentences in [self.trainSentences, self.devSentences, self.testSentences]:\n",
    "        entity_stat = {\"LOC\":0, \"MIS\":0, \"ORG\":0, \"PER\":0}\n",
    "        for sentence in sentences:\n",
    "            i = 0\n",
    "            while (i<len(sentence)):\n",
    "                entity = sentence[i][1]\n",
    "                if entity[2:5] in entity_stat:\n",
    "                    entity_stat[entity[2:5]] += 1\n",
    "                    while i<len(sentence) and entity[2:5] in entity_stat:\n",
    "                        entity = sentence[i][1]\n",
    "                        i += 1\n",
    "                    i -= 1\n",
    "                i += 1\n",
    "        result.append(entity_stat)\n",
    "    for res, stat in zip(result,[self.trainSentences_stat, self.devSentences_stat, self.testSentences_stat]):\n",
    "        stat['entity'] = res\n",
    "CNN_BLSTM.entity_stat = entity_stat"
   ]
  },
  {
   "cell_type": "code",
   "execution_count": 9,
   "metadata": {},
   "outputs": [
    {
     "name": "stdout",
     "output_type": "stream",
     "text": [
      "# of entities in trainset\n",
      "{'LOC': 7114, 'MIS': 3363, 'ORG': 6247, 'PER': 6532}\n",
      "# of entities in developmentset\n",
      "{'LOC': 1832, 'MIS': 912, 'ORG': 1325, 'PER': 1829}\n",
      "# of entities in testset\n",
      "{'LOC': 1658, 'MIS': 689, 'ORG': 1649, 'PER': 1597}\n"
     ]
    }
   ],
   "source": [
    "self.entity_stat()\n",
    "print('# of entities in trainset')\n",
    "print(self.trainSentences_stat['entity'])\n",
    "print('# of entities in developmentset')\n",
    "print(self.devSentences_stat['entity'])\n",
    "print('# of entities in testset')\n",
    "print(self.testSentences_stat['entity'])"
   ]
  },
  {
   "cell_type": "markdown",
   "metadata": {},
   "source": [
    "## Number of Sentences per Article (Trainset)\n",
    "From the figure we could see that most articles have less than 50 sentences."
   ]
  },
  {
   "cell_type": "code",
   "execution_count": 10,
   "metadata": {},
   "outputs": [
    {
     "name": "stderr",
     "output_type": "stream",
     "text": [
      "/home/ruoyan/anaconda3/lib/python3.7/site-packages/matplotlib/axes/_axes.py:6521: MatplotlibDeprecationWarning: \n",
      "The 'normed' kwarg was deprecated in Matplotlib 2.1 and will be removed in 3.1. Use 'density' instead.\n",
      "  alternative=\"'density'\", removal=\"3.1\")\n"
     ]
    },
    {
     "data": {
      "image/png": "[encoded data removed]",
      "text/plain": [
       "<Figure size 432x288 with 1 Axes>"
      ]
     },
     "metadata": {
      "needs_background": "light"
     },
     "output_type": "display_data"
    }
   ],
   "source": [
    "\n",
    "plt.hist(self.trainSentences_stat[\"Article_Sentence_n\"], normed=True, bins=30)\n",
    "plt.ylabel('Number of Sentences per Article');"
   ]
  },
  {
   "cell_type": "markdown",
   "metadata": {},
   "source": [
    "## Number of Words per Article (Trainset)\n",
    "From the figure we could see that most articles have less than 400 words."
   ]
  },
  {
   "cell_type": "code",
   "execution_count": 11,
   "metadata": {},
   "outputs": [
    {
     "data": {
      "image/png": "[encoded data removed]",
      "text/plain": [
       "<Figure size 432x288 with 1 Axes>"
      ]
     },
     "metadata": {
      "needs_background": "light"
     },
     "output_type": "display_data"
    }
   ],
   "source": [
    "plt.hist(self.trainSentences_stat[\"Article_Word_n\"], normed=True, bins=30)\n",
    "plt.ylabel('Number of Words per Article');"
   ]
  },
  {
   "cell_type": "markdown",
   "metadata": {},
   "source": [
    "## Number of Words per Sentence (Trainset)\n",
    "From the figure we could see that most sentences have less than 40 words."
   ]
  },
  {
   "cell_type": "code",
   "execution_count": 12,
   "metadata": {},
   "outputs": [
    {
     "data": {
      "image/png": "[encoded data removed]",
      "text/plain": [
       "<Figure size 432x288 with 1 Axes>"
      ]
     },
     "metadata": {
      "needs_background": "light"
     },
     "output_type": "display_data"
    }
   ],
   "source": [
    "plt.hist(self.trainSentences_stat[\"Sentence_Word_n\"], normed=True, bins=30)\n",
    "plt.ylabel('Number of Words per Sentence');"
   ]
  },
  {
   "cell_type": "markdown",
   "metadata": {},
   "source": [
    "## Data preprocessing"
   ]
  },
  {
   "cell_type": "code",
   "execution_count": 13,
   "metadata": {},
   "outputs": [
    {
     "name": "stdout",
     "output_type": "stream",
     "text": [
      "WARNING:tensorflow:From /home/ruoyan/anaconda3/lib/python3.7/site-packages/tensorflow/python/framework/op_def_library.py:263: colocate_with (from tensorflow.python.framework.ops) is deprecated and will be removed in a future version.\n",
      "Instructions for updating:\n",
      "Colocations handled automatically by placer.\n"
     ]
    }
   ],
   "source": [
    "\"\"\"Set parameters\"\"\"\n",
    "\n",
    "self.EPOCHS = 30               # paper: 80\n",
    "self.DROPOUT = 0.5             # paper: 0.68\n",
    "self.DROPOUT_RECURRENT = 0.25  # not specified in paper, 0.25 recommended\n",
    "self.LSTM_STATE_SIZE = 200     # paper: 275\n",
    "self.CONV_SIZE = 3             # paper: 3\n",
    "self.LEARNING_RATE = 0.0105    # paper 0.0105\n",
    "self.OPTIMIZER = Nadam()       # paper uses SGD(lr=self.learning_rate), Nadam() recommended"
   ]
  },
  {
   "cell_type": "code",
   "execution_count": 14,
   "metadata": {},
   "outputs": [],
   "source": [
    "# returns data with character information in format\n",
    "# [['EU', ['E', 'U'], 'B-ORG\\n'], ...]\n",
    "def addCharInformation(Sentences):\n",
    "    for i, sentence in enumerate(Sentences):\n",
    "        for j, data in enumerate(sentence):\n",
    "            chars = [c for c in data[0]]\n",
    "            Sentences[i][j] = [data[0], chars, data[1]]\n",
    "    return Sentences\n",
    "\n",
    "def addCharInfo(self):\n",
    "    # format: [['EU', ['E', 'U'], 'B-ORG\\n'], ...]\n",
    "    self.trainSentences = addCharInformation(self.trainSentences)\n",
    "    self.devSentences = addCharInformation(self.devSentences)\n",
    "    self.testSentences = addCharInformation(self.testSentences)\n",
    "CNN_BLSTM.addCharInfo = addCharInfo"
   ]
  },
  {
   "cell_type": "code",
   "execution_count": 15,
   "metadata": {},
   "outputs": [],
   "source": [
    "self.addCharInfo()"
   ]
  },
  {
   "cell_type": "markdown",
   "metadata": {},
   "source": [
    "Now each element of the sentences set is [word,word_chars, entity] for all words in a sentence:"
   ]
  },
  {
   "cell_type": "code",
   "execution_count": 16,
   "metadata": {},
   "outputs": [
    {
     "name": "stdout",
     "output_type": "stream",
     "text": [
      "[['EU', ['E', 'U'], 'I-ORG\\n'], ['rejects', ['r', 'e', 'j', 'e', 'c', 't', 's'], 'O\\n'], ['German', ['G', 'e', 'r', 'm', 'a', 'n'], 'I-MISC\\n'], ['call', ['c', 'a', 'l', 'l'], 'O\\n'], ['to', ['t', 'o'], 'O\\n'], ['boycott', ['b', 'o', 'y', 'c', 'o', 't', 't'], 'O\\n'], ['British', ['B', 'r', 'i', 't', 'i', 's', 'h'], 'I-MISC\\n'], ['lamb', ['l', 'a', 'm', 'b'], 'O\\n'], ['.', ['.'], 'O\\n']]\n",
      "[['Peter', ['P', 'e', 't', 'e', 'r'], 'I-PER\\n'], ['Blackburn', ['B', 'l', 'a', 'c', 'k', 'b', 'u', 'r', 'n'], 'I-PER\\n']]\n"
     ]
    }
   ],
   "source": [
    "for line in self.trainSentences[:2]:\n",
    "    print(line)"
   ]
  },
  {
   "cell_type": "markdown",
   "metadata": {},
   "source": [
    "Now we create word- and character-level embeddings to project sentence features into numbers."
   ]
  },
  {
   "cell_type": "code",
   "execution_count": 17,
   "metadata": {},
   "outputs": [],
   "source": [
    "# define casing s.t. NN can use case information to learn patterns\n",
    "def getCasing(word, caseLookup):\n",
    "    casing = 'other'\n",
    "\n",
    "    numDigits = 0\n",
    "    for char in word:\n",
    "        if char.isdigit():\n",
    "            numDigits += 1\n",
    "\n",
    "    digitFraction = numDigits / float(len(word))\n",
    "\n",
    "    if word.isdigit():  # Is a digit\n",
    "        casing = 'numeric'\n",
    "    elif digitFraction > 0.5:\n",
    "        casing = 'mainly_numeric'\n",
    "    elif word.islower():  # All lower case\n",
    "        casing = 'allLower'\n",
    "    elif word.isupper():  # All upper case\n",
    "        casing = 'allUpper'\n",
    "    elif word[0].isupper():  # is a title, initial char upper, then all lower\n",
    "        casing = 'initialUpper'\n",
    "    elif numDigits > 0:\n",
    "        casing = 'contains_digit'\n",
    "\n",
    "    return caseLookup[casing]\n",
    "\n",
    "def createMatrices(sentences, word2Idx, label2Idx, case2Idx, char2Idx):\n",
    "    unknownIdx = word2Idx['UNKNOWN_TOKEN']\n",
    "    paddingIdx = word2Idx['PADDING_TOKEN']\n",
    "\n",
    "    dataset = []\n",
    "\n",
    "    wordCount = 0\n",
    "    unknownWordCount = 0\n",
    "\n",
    "    for sentence in sentences:\n",
    "        wordIndices = []\n",
    "        caseIndices = []\n",
    "        charIndices = []\n",
    "        labelIndices = []\n",
    "\n",
    "        for word, char, label in sentence:\n",
    "            wordCount += 1\n",
    "            if word in word2Idx:\n",
    "                wordIdx = word2Idx[word]\n",
    "            elif word.lower() in word2Idx:\n",
    "                wordIdx = word2Idx[word.lower()]\n",
    "            else:\n",
    "                wordIdx = unknownIdx\n",
    "                unknownWordCount += 1\n",
    "            charIdx = []\n",
    "            for x in char:\n",
    "                charIdx.append(char2Idx[x])\n",
    "            # Get the label and map to int\n",
    "            wordIndices.append(wordIdx)\n",
    "            caseIndices.append(getCasing(word, case2Idx))\n",
    "            charIndices.append(charIdx)\n",
    "            labelIndices.append(label2Idx[label])\n",
    "\n",
    "        dataset.append([wordIndices, caseIndices, charIndices, labelIndices])\n",
    "\n",
    "    return dataset\n",
    "\n",
    "# 0-pads all words\n",
    "def padding(Sentences):\n",
    "    maxlen = 52\n",
    "    for sentence in Sentences:\n",
    "        char = sentence[2]\n",
    "        for x in char:\n",
    "            maxlen = max(maxlen, len(x))\n",
    "    for i, sentence in enumerate(Sentences):\n",
    "        Sentences[i][2] = pad_sequences(Sentences[i][2], 52, padding='post')\n",
    "    return Sentences\n",
    "\n",
    "def embed(self):\n",
    "    \"\"\"Create word- and character-level embeddings\"\"\"\n",
    "\n",
    "    labelSet = set()\n",
    "    words = {}\n",
    "\n",
    "    # unique words and labels in data  \n",
    "    for dataset in [self.trainSentences, self.devSentences, self.testSentences]:\n",
    "        for sentence in dataset:\n",
    "            for token, char, label in sentence:\n",
    "                # token ... token, char ... list of chars, label ... BIO labels   \n",
    "                labelSet.add(label)\n",
    "                words[token.lower()] = True\n",
    "\n",
    "    # mapping for labels\n",
    "    self.label2Idx = {}\n",
    "    for label in labelSet:\n",
    "        self.label2Idx[label] = len(self.label2Idx)\n",
    "\n",
    "    # mapping for token cases\n",
    "    case2Idx = {'numeric': 0, 'allLower': 1, 'allUpper': 2, 'initialUpper': 3, 'other': 4, 'mainly_numeric': 5,\n",
    "                'contains_digit': 6, 'PADDING_TOKEN': 7}\n",
    "    self.caseEmbeddings = np.identity(len(case2Idx), dtype='float32')  # identity matrix used \n",
    "\n",
    "    # read GLoVE word embeddings\n",
    "    word2Idx = {}\n",
    "    self.wordEmbeddings = []\n",
    "\n",
    "    fEmbeddings = open(\"embeddings/glove.6B.50d.txt\", encoding=\"utf-8\")\n",
    "\n",
    "    # loop through each word in embeddings\n",
    "    for line in fEmbeddings:\n",
    "        split = line.strip().split(\" \")\n",
    "        word = split[0]  # embedding word entry\n",
    "\n",
    "        if len(word2Idx) == 0:  # add padding+unknown\n",
    "            word2Idx[\"PADDING_TOKEN\"] = len(word2Idx)\n",
    "            vector = np.zeros(len(split) - 1)  # zero vector for 'PADDING' word\n",
    "            self.wordEmbeddings.append(vector)\n",
    "\n",
    "            word2Idx[\"UNKNOWN_TOKEN\"] = len(word2Idx)\n",
    "            vector = np.random.uniform(-0.25, 0.25, len(split) - 1)\n",
    "            self.wordEmbeddings.append(vector)\n",
    "\n",
    "        if split[0].lower() in words:\n",
    "            vector = np.array([float(num) for num in split[1:]])\n",
    "            self.wordEmbeddings.append(vector)  # word embedding vector\n",
    "            word2Idx[split[0]] = len(word2Idx)  # corresponding word dict\n",
    "\n",
    "    self.wordEmbeddings = np.array(self.wordEmbeddings)\n",
    "\n",
    "    # dictionary of all possible characters\n",
    "    self.char2Idx = {\"PADDING\": 0, \"UNKNOWN\": 1}\n",
    "    for c in \" 0123456789abcdefghijklmnopqrstuvwxyzABCDEFGHIJKLMNOPQRSTUVWXYZ.,-_()[]{}!?:;#'\\\"/\\\\%$`&=*+@^~|<>\":\n",
    "        self.char2Idx[c] = len(self.char2Idx)\n",
    "\n",
    "    # format: [[wordindices], [caseindices], [padded word indices], [label indices]]\n",
    "    self.train_set = padding(createMatrices(self.trainSentences, word2Idx, self.label2Idx, case2Idx, self.char2Idx))\n",
    "    self.dev_set = padding(createMatrices(self.devSentences, word2Idx, self.label2Idx, case2Idx, self.char2Idx))\n",
    "    self.test_set = padding(createMatrices(self.testSentences, word2Idx, self.label2Idx, case2Idx, self.char2Idx))\n",
    "\n",
    "    self.idx2Label = {v: k for k, v in self.label2Idx.items()}\n",
    "CNN_BLSTM.embed = embed"
   ]
  },
  {
   "cell_type": "code",
   "execution_count": 18,
   "metadata": {},
   "outputs": [],
   "source": [
    "self.embed()"
   ]
  },
  {
   "cell_type": "markdown",
   "metadata": {},
   "source": [
    "The dataset now becomes numerical, which then can be dealt with by neural network."
   ]
  },
  {
   "cell_type": "code",
   "execution_count": 19,
   "metadata": {},
   "outputs": [
    {
     "name": "stdout",
     "output_type": "stream",
     "text": [
      "[[641, 6732, 512, 578, 6, 4940, 295, 8353, 4], [2, 1, 3, 1, 1, 1, 3, 1, 4], array([[43, 59,  0,  0,  0,  0,  0,  0,  0,  0,  0,  0,  0,  0,  0,  0,\n",
      "         0,  0,  0,  0,  0,  0,  0,  0,  0,  0,  0,  0,  0,  0,  0,  0,\n",
      "         0,  0,  0,  0,  0,  0,  0,  0,  0,  0,  0,  0,  0,  0,  0,  0,\n",
      "         0,  0,  0,  0],\n",
      "       [30, 17, 22, 17, 15, 32, 31,  0,  0,  0,  0,  0,  0,  0,  0,  0,\n",
      "         0,  0,  0,  0,  0,  0,  0,  0,  0,  0,  0,  0,  0,  0,  0,  0,\n",
      "         0,  0,  0,  0,  0,  0,  0,  0,  0,  0,  0,  0,  0,  0,  0,  0,\n",
      "         0,  0,  0,  0],\n",
      "       [45, 17, 30, 25, 13, 26,  0,  0,  0,  0,  0,  0,  0,  0,  0,  0,\n",
      "         0,  0,  0,  0,  0,  0,  0,  0,  0,  0,  0,  0,  0,  0,  0,  0,\n",
      "         0,  0,  0,  0,  0,  0,  0,  0,  0,  0,  0,  0,  0,  0,  0,  0,\n",
      "         0,  0,  0,  0],\n",
      "       [15, 13, 24, 24,  0,  0,  0,  0,  0,  0,  0,  0,  0,  0,  0,  0,\n",
      "         0,  0,  0,  0,  0,  0,  0,  0,  0,  0,  0,  0,  0,  0,  0,  0,\n",
      "         0,  0,  0,  0,  0,  0,  0,  0,  0,  0,  0,  0,  0,  0,  0,  0,\n",
      "         0,  0,  0,  0],\n",
      "       [32, 27,  0,  0,  0,  0,  0,  0,  0,  0,  0,  0,  0,  0,  0,  0,\n",
      "         0,  0,  0,  0,  0,  0,  0,  0,  0,  0,  0,  0,  0,  0,  0,  0,\n",
      "         0,  0,  0,  0,  0,  0,  0,  0,  0,  0,  0,  0,  0,  0,  0,  0,\n",
      "         0,  0,  0,  0],\n",
      "       [14, 27, 37, 15, 27, 32, 32,  0,  0,  0,  0,  0,  0,  0,  0,  0,\n",
      "         0,  0,  0,  0,  0,  0,  0,  0,  0,  0,  0,  0,  0,  0,  0,  0,\n",
      "         0,  0,  0,  0,  0,  0,  0,  0,  0,  0,  0,  0,  0,  0,  0,  0,\n",
      "         0,  0,  0,  0],\n",
      "       [40, 30, 21, 32, 21, 31, 20,  0,  0,  0,  0,  0,  0,  0,  0,  0,\n",
      "         0,  0,  0,  0,  0,  0,  0,  0,  0,  0,  0,  0,  0,  0,  0,  0,\n",
      "         0,  0,  0,  0,  0,  0,  0,  0,  0,  0,  0,  0,  0,  0,  0,  0,\n",
      "         0,  0,  0,  0],\n",
      "       [24, 13, 25, 14,  0,  0,  0,  0,  0,  0,  0,  0,  0,  0,  0,  0,\n",
      "         0,  0,  0,  0,  0,  0,  0,  0,  0,  0,  0,  0,  0,  0,  0,  0,\n",
      "         0,  0,  0,  0,  0,  0,  0,  0,  0,  0,  0,  0,  0,  0,  0,  0,\n",
      "         0,  0,  0,  0],\n",
      "       [65,  0,  0,  0,  0,  0,  0,  0,  0,  0,  0,  0,  0,  0,  0,  0,\n",
      "         0,  0,  0,  0,  0,  0,  0,  0,  0,  0,  0,  0,  0,  0,  0,  0,\n",
      "         0,  0,  0,  0,  0,  0,  0,  0,  0,  0,  0,  0,  0,  0,  0,  0,\n",
      "         0,  0,  0,  0]], dtype=int32), [3, 0, 4, 0, 0, 0, 4, 0, 0]]\n",
      "[[1281, 7678], [3, 3], array([[54, 17, 32, 17, 30,  0,  0,  0,  0,  0,  0,  0,  0,  0,  0,  0,\n",
      "         0,  0,  0,  0,  0,  0,  0,  0,  0,  0,  0,  0,  0,  0,  0,  0,\n",
      "         0,  0,  0,  0,  0,  0,  0,  0,  0,  0,  0,  0,  0,  0,  0,  0,\n",
      "         0,  0,  0,  0],\n",
      "       [40, 24, 13, 15, 23, 14, 33, 30, 26,  0,  0,  0,  0,  0,  0,  0,\n",
      "         0,  0,  0,  0,  0,  0,  0,  0,  0,  0,  0,  0,  0,  0,  0,  0,\n",
      "         0,  0,  0,  0,  0,  0,  0,  0,  0,  0,  0,  0,  0,  0,  0,  0,\n",
      "         0,  0,  0,  0]], dtype=int32), [5, 5]]\n"
     ]
    }
   ],
   "source": [
    "for line in self.train_set[:2]:\n",
    "    print(line)"
   ]
  },
  {
   "cell_type": "markdown",
   "metadata": {},
   "source": [
    "Now we create batches."
   ]
  },
  {
   "cell_type": "code",
   "execution_count": 20,
   "metadata": {},
   "outputs": [],
   "source": [
    "def _createBatches(data):\n",
    "    l = []\n",
    "    for i in data:\n",
    "        l.append(len(i[0]))\n",
    "    l = set(l)\n",
    "    batches = []\n",
    "    batch_len = []\n",
    "    z = 0\n",
    "    for i in l:\n",
    "        for batch in data:\n",
    "            if len(batch[0]) == i:\n",
    "                batches.append(batch)\n",
    "                z += 1\n",
    "        batch_len.append(z)\n",
    "    return batches,batch_len\n",
    "\n",
    "def createBatches(self):\n",
    "    \"\"\"Create batches\"\"\"\n",
    "    self.train_batch, self.train_batch_len = _createBatches(self.train_set)\n",
    "    self.dev_batch, self.dev_batch_len = _createBatches(self.dev_set)\n",
    "    self.test_batch, self.test_batch_len = _createBatches(self.test_set)\n",
    "    \n",
    "CNN_BLSTM.createBatches = createBatches"
   ]
  },
  {
   "cell_type": "code",
   "execution_count": 21,
   "metadata": {},
   "outputs": [
    {
     "name": "stdout",
     "output_type": "stream",
     "text": [
      "length of trainset batch\n",
      "[179, 1308, 1894, 2665, 3416, 4041, 4945, 6001, 6895, 7398, 7805, 8129, 8483, 8776, 9055, 9290, 9523, 9721, 9916, 10130, 10343, 10560, 10770, 10991, 11214, 11426, 11628, 11845, 12061, 12255, 12464, 12650, 12823, 12978, 13113, 13237, 13339, 13437, 13546, 13626, 13698, 13762, 13814, 13859, 13899, 13926, 13947, 13965, 13978, 13993, 14003, 14014, 14017, 14021, 14026, 14027, 14030, 14032, 14034, 14036, 14038, 14039, 14040, 14041]\n",
      "length of deveopmentset batch\n",
      "[15, 280, 376, 549, 679, 811, 1113, 1337, 1467, 1590, 1694, 1777, 1834, 1896, 1937, 1990, 2036, 2092, 2148, 2215, 2286, 2343, 2389, 2438, 2486, 2531, 2586, 2640, 2699, 2757, 2801, 2849, 2887, 2931, 2966, 3013, 3053, 3074, 3098, 3119, 3139, 3157, 3175, 3191, 3202, 3211, 3213, 3215, 3221, 3223, 3226, 3231, 3233, 3234, 3237, 3241, 3242, 3243, 3244, 3245, 3246, 3247, 3248, 3249, 3250]\n",
      "length of trestset batch\n",
      "[33, 310, 474, 686, 874, 1051, 1387, 1714, 1937, 2064, 2144, 2207, 2261, 2316, 2374, 2416, 2468, 2518, 2564, 2618, 2684, 2731, 2783, 2822, 2872, 2921, 2949, 2987, 3036, 3076, 3125, 3154, 3200, 3225, 3251, 3273, 3300, 3332, 3347, 3360, 3371, 3382, 3393, 3403, 3414, 3416, 3421, 3426, 3429, 3433, 3437, 3438, 3442, 3443, 3444, 3445, 3446, 3447, 3448, 3449, 3450, 3451, 3452, 3453]\n"
     ]
    }
   ],
   "source": [
    "self.createBatches()\n",
    "print('length of trainset batch')\n",
    "print(self.train_batch_len)\n",
    "print('length of deveopmentset batch')\n",
    "print(self.dev_batch_len)\n",
    "print('length of trestset batch')\n",
    "print(self.test_batch_len)"
   ]
  },
  {
   "cell_type": "code",
   "execution_count": 22,
   "metadata": {},
   "outputs": [
    {
     "name": "stdout",
     "output_type": "stream",
     "text": [
      "[[[4], [4], array([[65,  0,  0,  0,  0,  0,  0,  0,  0,  0,  0,  0,  0,  0,  0,  0,\n",
      "         0,  0,  0,  0,  0,  0,  0,  0,  0,  0,  0,  0,  0,  0,  0,  0,\n",
      "         0,  0,  0,  0,  0,  0,  0,  0,  0,  0,  0,  0,  0,  0,  0,  0,\n",
      "         0,  0,  0,  0]], dtype=int32), [0]], [[15954], [2], array([[58, 46, 39, 61, 56, 39,  0,  0,  0,  0,  0,  0,  0,  0,  0,  0,\n",
      "         0,  0,  0,  0,  0,  0,  0,  0,  0,  0,  0,  0,  0,  0,  0,  0,\n",
      "         0,  0,  0,  0,  0,  0,  0,  0,  0,  0,  0,  0,  0,  0,  0,  0,\n",
      "         0,  0,  0,  0]], dtype=int32), [3]]]\n"
     ]
    }
   ],
   "source": [
    "print(self.train_batch[:2])"
   ]
  },
  {
   "cell_type": "markdown",
   "metadata": {},
   "source": [
    "# 4.Model\n",
    "We build Bidirectional LSTMs + CNN in this section.\n",
    "The figure below shows the BLSTM. x stands for the input sequence, h for the output sequence from forward or backward runs (defined by the arrow pointing right or left, respectively), y for the concatenated output sequence where sigma concatenates the forward and backward output elements.\n",
    "\n",
    "<img src=\"https://cdn-images-1.medium.com/max/800/1*QBrVVvYps5zo6QtBRRq4fA.png\">\n",
    "\n",
    "## Embeddings\n",
    "After loading the training, development and testing data files, the embed function creates word- and character-level embeddings. This means that words and characters are mapped to real numbers that the neural network can work with. More specifically, labels (e.g. B-ORG, I-ORG, B-LOC, etc.), token cases (e.g. lower case, upper case or numeric tokens) and characters are mapped to a real number using a dictionary data structure. Furthermore, all unique words are mapped to GloVE embedding vectors.\n",
    "\n",
    "## Model architecture\n",
    "The BLSTM layer forms the core of the network and has the following three inputs:\n",
    "\n",
    "Character-level patters are identified by a convolutional neural network\n",
    "Word-level input from GloVE embeddings\n",
    "Casing input (whether words are lower case, upper case, etc.)\n",
    "The graph below shows the model architecture with all layers. A softmax activation layer generates the final outputs.\n",
    "\n",
    "<img src=\"https://cdn-images-1.medium.com/max/800/1*IZSxs-rwglEWALLBDRfTzw.png\">"
   ]
  },
  {
   "cell_type": "markdown",
   "metadata": {},
   "source": [
    "## Set Parameters\n",
    "We use the recommended parameter in the paper https://arxiv.org/pdf/1511.08308.pdf which claimed can reach a F1 > 0.9, except epochs (which was 80). We use 30 epochs due to limited time."
   ]
  },
  {
   "cell_type": "code",
   "execution_count": 23,
   "metadata": {},
   "outputs": [],
   "source": [
    "EPOCHS = 30    # Number of Training Epochs           \n",
    "DROPOUT = 0.5  # inputs dropout ratio           \n",
    "DROPOUT_RECURRENT = 0.25 # dropout ratio in RNN\n",
    "LSTM_STATE_SIZE = 200   # LSTM has 200 states\n",
    "CONV_SIZE = 3   # size of CNN layer      \n",
    "LEARNING_RATE = 0.0105    # optimization learning ratio\n",
    "OPTIMIZER = Nadam()       # use nadam optimizer (Adam RMSprop with Nesterov momentum)\n",
    "\n",
    "self.epochs = EPOCHS\n",
    "self.dropout = DROPOUT\n",
    "self.dropout_recurrent = DROPOUT_RECURRENT\n",
    "self.lstm_state_size = LSTM_STATE_SIZE\n",
    "self.conv_size = CONV_SIZE\n",
    "self.learning_rate = LEARNING_RATE\n",
    "self.optimizer = OPTIMIZER"
   ]
  },
  {
   "cell_type": "markdown",
   "metadata": {},
   "source": [
    "## Build Character Input\n",
    "For each word we employ a convolution and a max layer to extract a new feature vector from the percharacter feature vectors such as character embeddings. Words are padded with a number of special PADDING characters on both sides depending on the window size of the CNN. The hyper-parameters of the CNN are the window size and the output vector size.\n",
    "\n",
    "We randomly initialized a lookup table with values drawn from a uniform distribution with range [−0.5, 0.5] to output a character embedding of 30 dimensions. The character set includes all unique characters in the CoNLL-2003 dataset8 plus the special tokens PADDING and UNKNOWN. The PADDING token is used for the CNN, and the UNKNOWN token is used for all other characters."
   ]
  },
  {
   "cell_type": "markdown",
   "metadata": {},
   "source": [
    "Character embedding\n",
    "layer maps\n",
    "a vocabulary of 97 possible\n",
    "characters to 30-dimensional\n",
    "embedding, initialized randomly\n",
    "from U(−0.5,0.5). The number of\n",
    "input samples per batch and the number of words\n",
    "per sample (‘w’) vary from batch to\n",
    "batch. The maximum number of\n",
    "characters per word (‘c’) was 52."
   ]
  },
  {
   "cell_type": "code",
   "execution_count": 24,
   "metadata": {},
   "outputs": [
    {
     "name": "stdout",
     "output_type": "stream",
     "text": [
      "WARNING:tensorflow:From /home/ruoyan/anaconda3/lib/python3.7/site-packages/keras/backend/tensorflow_backend.py:3445: calling dropout (from tensorflow.python.ops.nn_ops) with keep_prob is deprecated and will be removed in a future version.\n",
      "Instructions for updating:\n",
      "Please use `rate` instead of `keep_prob`. Rate should be set to `rate = 1 - keep_prob`.\n"
     ]
    },
    {
     "data": {
      "text/plain": [
       "TensorShape([Dimension(None), Dimension(None), Dimension(52), Dimension(30)])"
      ]
     },
     "execution_count": 24,
     "metadata": {},
     "output_type": "execute_result"
    }
   ],
   "source": [
    "# character input\n",
    "character_input = Input(shape=(None, 52,), name=\"Character_input\")\n",
    "embed_char_out = TimeDistributed(\n",
    "    Embedding(len(self.char2Idx), 30, embeddings_initializer=RandomUniform(minval=-0.5, maxval=0.5)), name=\"Character_embedding\")(\n",
    "    character_input)\n",
    "# drop rate 0.5 are applied to the character-level input to mitigate the risk of overfitting. \n",
    "dropout = Dropout(self.dropout)(embed_char_out)\n",
    "dropout.get_shape()"
   ]
  },
  {
   "cell_type": "markdown",
   "metadata": {},
   "source": [
    "The input has 52 components, the output has 30 components.Dropout consists in randomly setting a fraction rate 0.5 of input units to 0 at each update during training time, which helps prevent overfitting. The units that are kept are scaled by 2, so that their sum is unchanged at training time and inference time."
   ]
  },
  {
   "cell_type": "markdown",
   "metadata": {},
   "source": [
    "## Build CNN\n",
    "Then we use a cnn layer and a maxpool layer to generate the character input for BLSTM. A dropout level is added to prevent overfitting.Conv1D processes\n",
    "the 1-dimensional character input with 30\n",
    "kernels of width 3. This layer is followed by a\n",
    "1d maxpool operation (char_maxpool) of\n",
    "window size 52 and stride of 52, which\n",
    "effectively compiles the character dimension\n",
    "into size 1. The kernel is initialized by drawing\n",
    "from a Glorot uniform distribution."
   ]
  },
  {
   "cell_type": "code",
   "execution_count": 25,
   "metadata": {},
   "outputs": [
    {
     "data": {
      "text/plain": [
       "<tf.Tensor 'dropout_2/cond/Merge:0' shape=(?, ?, 30) dtype=float32>"
      ]
     },
     "execution_count": 25,
     "metadata": {},
     "output_type": "execute_result"
    }
   ],
   "source": [
    "# CNN\n",
    "conv1d_out = TimeDistributed(Conv1D(kernel_size=self.conv_size, filters=30, padding='same', activation='tanh', strides=1), name=\"Convolution\")(dropout)\n",
    "maxpool_out = TimeDistributed(MaxPooling1D(52), name=\"Maxpool\")(conv1d_out)\n",
    "char = TimeDistributed(Flatten(), name=\"Flatten\")(maxpool_out)\n",
    "char = Dropout(self.dropout)(char)\n",
    "char"
   ]
  },
  {
   "cell_type": "markdown",
   "metadata": {},
   "source": [
    "The layer has 30 components. We build the layer dealing with the word-level input next. Word embedding layer (words_input) maps a\n",
    "vocabulary of ‘Vw’ words into 50-dimensional\n",
    "embeddings. Unless stated otherwise, we use\n",
    "the GloVE Wikipedia 2014 and Gigaword 5\n",
    "embeddings with 6B tokens."
   ]
  },
  {
   "cell_type": "code",
   "execution_count": 26,
   "metadata": {},
   "outputs": [
    {
     "data": {
      "text/plain": [
       "<tf.Tensor 'embedding_2/embedding_lookup/Identity:0' shape=(?, ?, 50) dtype=float32>"
      ]
     },
     "execution_count": 26,
     "metadata": {},
     "output_type": "execute_result"
    }
   ],
   "source": [
    "# word-level input\n",
    "words_input = Input(shape=(None,), dtype='int32', name='words_input')\n",
    "words = Embedding(input_dim=self.wordEmbeddings.shape[0], output_dim=self.wordEmbeddings.shape[1], weights=[self.wordEmbeddings],\n",
    "                  trainable=False)(words_input)\n",
    "words"
   ]
  },
  {
   "cell_type": "markdown",
   "metadata": {},
   "source": [
    "The layer has 50 components. The last input layer to build is the case level input (whether words are lower case, upper case). Casing embedding layer (casing_input) maps\n",
    "a vocabulary of ‘Vca’ casing types into Vca dimensional embeddings. By default, 8 casing\n",
    "types are considered: numeric, allLower,\n",
    "allUpper, mainly_numeric (more than 50% of\n",
    "characters of a word are numeric), initialUpper,\n",
    "contains_digit, padding and other (if no\n",
    "category was applicable)."
   ]
  },
  {
   "cell_type": "code",
   "execution_count": 27,
   "metadata": {},
   "outputs": [
    {
     "data": {
      "text/plain": [
       "<tf.Tensor 'embedding_3/embedding_lookup/Identity:0' shape=(?, ?, 8) dtype=float32>"
      ]
     },
     "execution_count": 27,
     "metadata": {},
     "output_type": "execute_result"
    }
   ],
   "source": [
    "# case-info input\n",
    "casing_input = Input(shape=(None,), dtype='int32', name='casing_input')\n",
    "casing = Embedding(output_dim=self.caseEmbeddings.shape[1], input_dim=self.caseEmbeddings.shape[0], weights=[self.caseEmbeddings],\n",
    "                   trainable=False)(casing_input)\n",
    "casing"
   ]
  },
  {
   "cell_type": "markdown",
   "metadata": {},
   "source": [
    "It has 8 components. Then we build a concatenate layer to take the input from characters, words, and cases. Concatenation layer (merge_concatenate)\n",
    "combines processed character-level (a vector\n",
    "of 30 dimensions per sample input), word-level\n",
    "(50 dimensions) and casing (Vca dimensions)\n",
    "data into a vector of 80 + Vca dimensions."
   ]
  },
  {
   "cell_type": "code",
   "execution_count": 28,
   "metadata": {},
   "outputs": [
    {
     "data": {
      "text/plain": [
       "<tf.Tensor 'concatenate_1/concat:0' shape=(?, ?, 88) dtype=float32>"
      ]
     },
     "execution_count": 28,
     "metadata": {},
     "output_type": "execute_result"
    }
   ],
   "source": [
    "output_ = concatenate([words, casing, char])\n",
    "output_"
   ]
  },
  {
   "cell_type": "markdown",
   "metadata": {},
   "source": [
    "The layer has 30+50+8 = 88 components. Then a Bidirectional LSTM is added to uncover more patterns of the inputs (considers the sequence of tokens before/after a token of interest). A softmax layer is added to generate the probability distribution. Bidirectional LSTM (BLSTM) (Schuster &\n",
    "Paliwal, 1997) layer (merge_BLSTM)\n",
    "transforms the previously concatenated data\n",
    "into two vectors of 200 units, one applying\n",
    "forwards and another backwards recursion on\n",
    "the input The kernels are initialized by drawing\n",
    "from a Glorot uniform distribution (Glorot &\n",
    "Bengio, 2010). Bias terms are initialized to\n",
    "zero. \n",
    "\n",
    "Dense output layer (merge_softmax) applies\n",
    "a layer-wise softmax function to output a\n",
    "prediction for locating and classifying\n",
    "sequences of words in the input text. The\n",
    "number of units depends on the specific\n",
    "objective task. The kernel is initialized by\n",
    "drawing from a Glorot uniform distribution\n",
    "(Glorot & Bengio, 2010). Bias terms are\n",
    "initialized to zero."
   ]
  },
  {
   "cell_type": "code",
   "execution_count": 29,
   "metadata": {},
   "outputs": [
    {
     "data": {
      "text/plain": [
       "<tf.Tensor 'Softmax_layer/Reshape_1:0' shape=(?, ?, 8) dtype=float32>"
      ]
     },
     "execution_count": 29,
     "metadata": {},
     "output_type": "execute_result"
    }
   ],
   "source": [
    "output = Bidirectional(LSTM(self.lstm_state_size, \n",
    "                            return_sequences=True, \n",
    "                            dropout=self.dropout,                        # on input to each LSTM block\n",
    "                            recurrent_dropout=self.dropout_recurrent     # on recurrent input signal\n",
    "                           ), name=\"BLSTM\")(output_)\n",
    "output = TimeDistributed(Dense(len(self.label2Idx), activation='softmax'),name=\"Softmax_layer\")(output)\n",
    "output"
   ]
  },
  {
   "cell_type": "code",
   "execution_count": 30,
   "metadata": {},
   "outputs": [
    {
     "data": {
      "text/plain": [
       "<tf.Tensor 'Softmax_layer2/Reshape_1:0' shape=(?, ?, 8) dtype=float32>"
      ]
     },
     "execution_count": 30,
     "metadata": {},
     "output_type": "execute_result"
    }
   ],
   "source": [
    "outputLSTM = LSTM(self.lstm_state_size, \n",
    "                            return_sequences=True, \n",
    "                            dropout=self.dropout,                        # on input to each LSTM block\n",
    "                            recurrent_dropout=self.dropout_recurrent     # on recurrent input signal\n",
    "                           , name=\"LSTM\")(output_)\n",
    "outputLSTM = TimeDistributed(Dense(len(self.label2Idx), activation='softmax'),name=\"Softmax_layer2\")(outputLSTM)\n",
    "outputLSTM"
   ]
  },
  {
   "cell_type": "markdown",
   "metadata": {},
   "source": [
    "This layer has 8 components. At last we setup the model with the overall inputs and outputs."
   ]
  },
  {
   "cell_type": "code",
   "execution_count": 33,
   "metadata": {},
   "outputs": [],
   "source": [
    "# set up model\n",
    "self.model = Model(inputs=[words_input, casing_input, character_input], outputs=[output])\n",
    "\n",
    "self.model.compile(loss='sparse_categorical_crossentropy', optimizer=self.optimizer)"
   ]
  },
  {
   "cell_type": "markdown",
   "metadata": {},
   "source": [
    "To compare, we also train a model with LSTM instead of BLSTM."
   ]
  },
  {
   "cell_type": "code",
   "execution_count": 34,
   "metadata": {},
   "outputs": [],
   "source": [
    "self.modelLSTM = Model(inputs=[words_input, casing_input, character_input], outputs=[outputLSTM])\n",
    "\n",
    "self.modelLSTM.compile(loss='sparse_categorical_crossentropy', optimizer=self.optimizer)"
   ]
  },
  {
   "cell_type": "code",
   "execution_count": 35,
   "metadata": {},
   "outputs": [],
   "source": [
    "self.init_weights = self.model.get_weights()\n",
    "self.init_weightsLSTM = self.modelLSTM.get_weights()"
   ]
  },
  {
   "cell_type": "markdown",
   "metadata": {},
   "source": [
    "The model has 14 different layers in total."
   ]
  },
  {
   "cell_type": "code",
   "execution_count": 36,
   "metadata": {},
   "outputs": [
    {
     "data": {
      "text/plain": [
       "[<keras.engine.input_layer.InputLayer at 0x7f52ada91cc0>,\n",
       " <keras.layers.wrappers.TimeDistributed at 0x7f52ada915f8>,\n",
       " <keras.layers.core.Dropout at 0x7f52ada916a0>,\n",
       " <keras.layers.wrappers.TimeDistributed at 0x7f52ae81e160>,\n",
       " <keras.layers.wrappers.TimeDistributed at 0x7f52ae81e470>,\n",
       " <keras.engine.input_layer.InputLayer at 0x7f52ae2a84e0>,\n",
       " <keras.engine.input_layer.InputLayer at 0x7f52ae43a6a0>,\n",
       " <keras.layers.wrappers.TimeDistributed at 0x7f52ae808cc0>,\n",
       " <keras.layers.embeddings.Embedding at 0x7f52ae2a82e8>,\n",
       " <keras.layers.embeddings.Embedding at 0x7f52ae461630>,\n",
       " <keras.layers.core.Dropout at 0x7f52ae808e10>,\n",
       " <keras.layers.merge.Concatenate at 0x7f52a7724a90>,\n",
       " <keras.layers.wrappers.Bidirectional at 0x7f52ae37f8d0>,\n",
       " <keras.layers.wrappers.TimeDistributed at 0x7f529810ccc0>]"
      ]
     },
     "execution_count": 36,
     "metadata": {},
     "output_type": "execute_result"
    }
   ],
   "source": [
    "self.model.layers"
   ]
  },
  {
   "cell_type": "markdown",
   "metadata": {},
   "source": [
    "It has 3 different inputs."
   ]
  },
  {
   "cell_type": "code",
   "execution_count": 37,
   "metadata": {},
   "outputs": [
    {
     "data": {
      "text/plain": [
       "[<tf.Tensor 'words_input:0' shape=(?, ?) dtype=int32>,\n",
       " <tf.Tensor 'casing_input:0' shape=(?, ?) dtype=int32>,\n",
       " <tf.Tensor 'Character_input:0' shape=(?, ?, 52) dtype=float32>]"
      ]
     },
     "execution_count": 37,
     "metadata": {},
     "output_type": "execute_result"
    }
   ],
   "source": [
    "self.model.inputs"
   ]
  },
  {
   "cell_type": "markdown",
   "metadata": {},
   "source": [
    "With 1 kind of outputs."
   ]
  },
  {
   "cell_type": "code",
   "execution_count": 38,
   "metadata": {},
   "outputs": [
    {
     "data": {
      "text/plain": [
       "[<tf.Tensor 'Softmax_layer/Reshape_1:0' shape=(?, ?, 8) dtype=float32>]"
      ]
     },
     "execution_count": 38,
     "metadata": {},
     "output_type": "execute_result"
    }
   ],
   "source": [
    "self.model.outputs"
   ]
  },
  {
   "cell_type": "markdown",
   "metadata": {},
   "source": [
    "It has 1,618,762 parameters in total."
   ]
  },
  {
   "cell_type": "code",
   "execution_count": 34,
   "metadata": {},
   "outputs": [
    {
     "name": "stdout",
     "output_type": "stream",
     "text": [
      "__________________________________________________________________________________________________\n",
      "Layer (type)                    Output Shape         Param #     Connected to                     \n",
      "==================================================================================================\n",
      "Character_input (InputLayer)    (None, None, 52)     0                                            \n",
      "__________________________________________________________________________________________________\n",
      "Character_embedding (TimeDistri (None, None, 52, 30) 2910        Character_input[0][0]            \n",
      "__________________________________________________________________________________________________\n",
      "dropout_1 (Dropout)             (None, None, 52, 30) 0           Character_embedding[0][0]        \n",
      "__________________________________________________________________________________________________\n",
      "Convolution (TimeDistributed)   (None, None, 52, 30) 2730        dropout_1[0][0]                  \n",
      "__________________________________________________________________________________________________\n",
      "Maxpool (TimeDistributed)       (None, None, 1, 30)  0           Convolution[0][0]                \n",
      "__________________________________________________________________________________________________\n",
      "words_input (InputLayer)        (None, None)         0                                            \n",
      "__________________________________________________________________________________________________\n",
      "casing_input (InputLayer)       (None, None)         0                                            \n",
      "__________________________________________________________________________________________________\n",
      "Flatten (TimeDistributed)       (None, None, 30)     0           Maxpool[0][0]                    \n",
      "__________________________________________________________________________________________________\n",
      "embedding_2 (Embedding)         (None, None, 50)     1147450     words_input[0][0]                \n",
      "__________________________________________________________________________________________________\n",
      "embedding_3 (Embedding)         (None, None, 8)      64          casing_input[0][0]               \n",
      "__________________________________________________________________________________________________\n",
      "dropout_2 (Dropout)             (None, None, 30)     0           Flatten[0][0]                    \n",
      "__________________________________________________________________________________________________\n",
      "concatenate_1 (Concatenate)     (None, None, 88)     0           embedding_2[0][0]                \n",
      "                                                                 embedding_3[0][0]                \n",
      "                                                                 dropout_2[0][0]                  \n",
      "__________________________________________________________________________________________________\n",
      "BLSTM (Bidirectional)           (None, None, 400)    462400      concatenate_1[0][0]              \n",
      "__________________________________________________________________________________________________\n",
      "Softmax_layer (TimeDistributed) (None, None, 8)      3208        BLSTM[0][0]                      \n",
      "==================================================================================================\n",
      "Total params: 1,618,762\n",
      "Trainable params: 471,248\n",
      "Non-trainable params: 1,147,514\n",
      "__________________________________________________________________________________________________\n"
     ]
    }
   ],
   "source": [
    "self.model.summary()"
   ]
  },
  {
   "cell_type": "markdown",
   "metadata": {},
   "source": [
    "Model with LSTM only has 1,385,962 parameters."
   ]
  },
  {
   "cell_type": "code",
   "execution_count": 39,
   "metadata": {},
   "outputs": [
    {
     "name": "stdout",
     "output_type": "stream",
     "text": [
      "__________________________________________________________________________________________________\n",
      "Layer (type)                    Output Shape         Param #     Connected to                     \n",
      "==================================================================================================\n",
      "Character_input (InputLayer)    (None, None, 52)     0                                            \n",
      "__________________________________________________________________________________________________\n",
      "Character_embedding (TimeDistri (None, None, 52, 30) 2910        Character_input[0][0]            \n",
      "__________________________________________________________________________________________________\n",
      "dropout_1 (Dropout)             (None, None, 52, 30) 0           Character_embedding[0][0]        \n",
      "__________________________________________________________________________________________________\n",
      "Convolution (TimeDistributed)   (None, None, 52, 30) 2730        dropout_1[0][0]                  \n",
      "__________________________________________________________________________________________________\n",
      "Maxpool (TimeDistributed)       (None, None, 1, 30)  0           Convolution[0][0]                \n",
      "__________________________________________________________________________________________________\n",
      "words_input (InputLayer)        (None, None)         0                                            \n",
      "__________________________________________________________________________________________________\n",
      "casing_input (InputLayer)       (None, None)         0                                            \n",
      "__________________________________________________________________________________________________\n",
      "Flatten (TimeDistributed)       (None, None, 30)     0           Maxpool[0][0]                    \n",
      "__________________________________________________________________________________________________\n",
      "embedding_2 (Embedding)         (None, None, 50)     1147450     words_input[0][0]                \n",
      "__________________________________________________________________________________________________\n",
      "embedding_3 (Embedding)         (None, None, 8)      64          casing_input[0][0]               \n",
      "__________________________________________________________________________________________________\n",
      "dropout_2 (Dropout)             (None, None, 30)     0           Flatten[0][0]                    \n",
      "__________________________________________________________________________________________________\n",
      "concatenate_1 (Concatenate)     (None, None, 88)     0           embedding_2[0][0]                \n",
      "                                                                 embedding_3[0][0]                \n",
      "                                                                 dropout_2[0][0]                  \n",
      "__________________________________________________________________________________________________\n",
      "LSTM (LSTM)                     (None, None, 200)    231200      concatenate_1[0][0]              \n",
      "__________________________________________________________________________________________________\n",
      "Softmax_layer2 (TimeDistributed (None, None, 8)      1608        LSTM[0][0]                       \n",
      "==================================================================================================\n",
      "Total params: 1,385,962\n",
      "Trainable params: 238,448\n",
      "Non-trainable params: 1,147,514\n",
      "__________________________________________________________________________________________________\n"
     ]
    }
   ],
   "source": [
    "self.modelLSTM.summary()"
   ]
  },
  {
   "cell_type": "code",
   "execution_count": 52,
   "metadata": {},
   "outputs": [
    {
     "data": {
      "image/png": "[encoded data removed]",
      "text/plain": [
       "<Figure size 2664x1512 with 1 Axes>"
      ]
     },
     "metadata": {
      "needs_background": "light"
     },
     "output_type": "display_data"
    },
    {
     "name": "stdout",
     "output_type": "stream",
     "text": [
      "Model built. Saved model.png\n",
      "\n"
     ]
    }
   ],
   "source": [
    "import matplotlib.image as mpimg\n",
    "import matplotlib.pyplot as plt\n",
    "%matplotlib inline\n",
    "fig = plt.gcf()\n",
    "fig.set_size_inches(37, 21)\n",
    "plot_model(self.model, to_file='model.png')\n",
    "img = mpimg.imread('structure.png')\n",
    "plt.imshow(img)\n",
    "plt.show()\n",
    "print(\"Model built. Saved model.png\\n\")"
   ]
  },
  {
   "cell_type": "markdown",
   "metadata": {},
   "source": [
    "## Training Model"
   ]
  },
  {
   "cell_type": "markdown",
   "metadata": {},
   "source": [
    "We train 30 epochs, collect F1 scores concurrently."
   ]
  },
  {
   "cell_type": "code",
   "execution_count": 47,
   "metadata": {},
   "outputs": [],
   "source": [
    "def iterate_minibatches(dataset, batch_len):\n",
    "    start = 0\n",
    "    for i in batch_len:\n",
    "        tokens = []\n",
    "        caseing = []\n",
    "        char = []\n",
    "        labels = []\n",
    "        data = dataset[start:i]\n",
    "        start = i\n",
    "        for dt in data:\n",
    "            t, c, ch, l = dt\n",
    "            l = np.expand_dims(l, -1)\n",
    "            tokens.append(t)\n",
    "            caseing.append(c)\n",
    "            char.append(ch)\n",
    "            labels.append(l)\n",
    "        \n",
    "        yield np.asarray(labels), np.asarray(tokens), np.asarray(caseing), np.asarray(char)\n",
    "        \n",
    "def tag_dataset(self, dataset, model):\n",
    "    \"\"\"Tag data with numerical values\"\"\"\n",
    "    correctLabels = []\n",
    "    predLabels = []\n",
    "    for i, data in enumerate(dataset):\n",
    "        tokens, casing, char, labels = data\n",
    "        tokens = np.asarray([tokens])\n",
    "        casing = np.asarray([casing])\n",
    "        char = np.asarray([char])\n",
    "        pred = model.predict([tokens, casing, char], verbose=False)[0]\n",
    "        pred = pred.argmax(axis=-1)  # Predict the classes\n",
    "        correctLabels.append(labels)\n",
    "        predLabels.append(pred)\n",
    "    return predLabels, correctLabels\n",
    "\n",
    "def compute_f1(predictions, correct, idx2Label):\n",
    "    label_pred = []\n",
    "    for sentence in predictions:\n",
    "        label_pred.append([idx2Label[element] for element in sentence])\n",
    "\n",
    "    label_correct = []\n",
    "    for sentence in correct:\n",
    "        label_correct.append([idx2Label[element] for element in sentence])\n",
    "\n",
    "    # print(\"predictions \", len(label_pred))\n",
    "    # print(\"correct labels \", len(label_correct))\n",
    "\n",
    "    prec = compute_precision(label_pred, label_correct)\n",
    "    rec = compute_precision(label_correct, label_pred)\n",
    "\n",
    "    f1 = 0\n",
    "    if (rec + prec) > 0:\n",
    "        f1 = 2.0 * prec * rec / (prec + rec);\n",
    "\n",
    "    return prec, rec, f1\n",
    "\n",
    "def compute_precision(guessed_sentences, correct_sentences):\n",
    "    assert (len(guessed_sentences) == len(correct_sentences))\n",
    "    correctCount = 0\n",
    "    count = 0\n",
    "\n",
    "    for sentenceIdx in range(len(guessed_sentences)):\n",
    "        guessed = guessed_sentences[sentenceIdx]\n",
    "        correct = correct_sentences[sentenceIdx]\n",
    "        assert (len(guessed) == len(correct))\n",
    "        idx = 0\n",
    "        while idx < len(guessed):\n",
    "            if guessed[idx][0] == 'I':  # a new chunk starts\n",
    "                count += 1\n",
    "                #print(guessed[idx]+\" ......\"+correct[idx])\n",
    "                if guessed[idx] == correct[idx]:  # first prediction correct\n",
    "                    idx += 1\n",
    "                    correctlyFound = True\n",
    "\n",
    "                    while idx < len(guessed) and guessed[idx][0] == 'I':  # scan entire chunk\n",
    "                        \n",
    "                        if guessed[idx] != correct[idx]:\n",
    "                            \n",
    "                            correctlyFound = False \n",
    "\n",
    "                        idx += 1\n",
    "\n",
    "                    if idx < len(guessed):\n",
    "                        if correct[idx][0] == 'I':  # chunk in correct was longer\n",
    "                            correctlyFound = False\n",
    "\n",
    "                    if correctlyFound:\n",
    "                        correctCount += 1\n",
    "                else:\n",
    "                    \n",
    "                    idx += 1\n",
    "            else:\n",
    "                idx += 1\n",
    "\n",
    "    precision = 0\n",
    "    if count > 0:\n",
    "        precision = float(correctCount) / count\n",
    "    return precision\n",
    "\n",
    "CNN_BLSTM.tag_dataset = tag_dataset\n",
    "\n",
    "def train(self, model):\n",
    "    f1_test_history = []\n",
    "    f1_dev_history = []\n",
    "    for epoch in range(self.epochs):    \n",
    "        print(\"Epoch {}/{}\".format(epoch, self.epochs))\n",
    "        for i,batch in enumerate(iterate_minibatches(self.train_batch,self.train_batch_len)):\n",
    "            labels, tokens, casing,char = batch       \n",
    "            model.train_on_batch([tokens, casing,char], labels)\n",
    "\n",
    "        # compute F1 scores\n",
    "        predLabels, correctLabels = self.tag_dataset(self.test_batch, model)\n",
    "        pre_test, rec_test, f1_test = compute_f1(predLabels, correctLabels, self.idx2Label)\n",
    "        f1_test_history.append(f1_test)\n",
    "        print(\"f1 test \", round(f1_test, 4))\n",
    "\n",
    "        predLabels, correctLabels = self.tag_dataset(self.dev_batch, model)\n",
    "        pre_dev, rec_dev, f1_dev = compute_f1(predLabels, correctLabels, self.idx2Label)\n",
    "        f1_dev_history.append(f1_dev)\n",
    "        print(\"f1 dev \", round(f1_dev, 4), \"\\n\")\n",
    "\n",
    "    print(\"Final F1 test score: \", f1_test)\n",
    "\n",
    "    print(\"Training finished.\")\n",
    "    return f1_test_history, f1_dev_history\n",
    "CNN_BLSTM.train = train"
   ]
  },
  {
   "cell_type": "markdown",
   "metadata": {},
   "source": [
    "We train our model on the NER trainset with size 14041 sentences."
   ]
  },
  {
   "cell_type": "code",
   "execution_count": 48,
   "metadata": {},
   "outputs": [
    {
     "name": "stdout",
     "output_type": "stream",
     "text": [
      "Epoch 0/30\n",
      "f1 test  0.191\n",
      "f1 dev  0.1731 \n",
      "\n",
      "Epoch 1/30\n",
      "f1 test  0.6899\n",
      "f1 dev  0.6968 \n",
      "\n",
      "Epoch 2/30\n",
      "f1 test  0.7276\n",
      "f1 dev  0.7209 \n",
      "\n",
      "Epoch 3/30\n",
      "f1 test  0.7269\n",
      "f1 dev  0.7187 \n",
      "\n",
      "Epoch 4/30\n",
      "f1 test  0.7349\n",
      "f1 dev  0.7306 \n",
      "\n",
      "Epoch 5/30\n",
      "f1 test  0.7424\n",
      "f1 dev  0.7413 \n",
      "\n",
      "Epoch 6/30\n",
      "f1 test  0.7574\n",
      "f1 dev  0.7525 \n",
      "\n",
      "Epoch 7/30\n",
      "f1 test  0.759\n",
      "f1 dev  0.765 \n",
      "\n",
      "Epoch 8/30\n",
      "f1 test  0.7363\n",
      "f1 dev  0.7436 \n",
      "\n",
      "Epoch 9/30\n",
      "f1 test  0.744\n",
      "f1 dev  0.7512 \n",
      "\n",
      "Epoch 10/30\n",
      "f1 test  0.7629\n",
      "f1 dev  0.7839 \n",
      "\n",
      "Epoch 11/30\n",
      "f1 test  0.7652\n",
      "f1 dev  0.782 \n",
      "\n",
      "Epoch 12/30\n",
      "f1 test  0.7653\n",
      "f1 dev  0.7827 \n",
      "\n",
      "Epoch 13/30\n",
      "f1 test  0.7656\n",
      "f1 dev  0.7882 \n",
      "\n",
      "Epoch 14/30\n",
      "f1 test  0.7647\n",
      "f1 dev  0.7872 \n",
      "\n",
      "Epoch 15/30\n",
      "f1 test  0.7656\n",
      "f1 dev  0.7898 \n",
      "\n",
      "Epoch 16/30\n",
      "f1 test  0.7782\n",
      "f1 dev  0.8102 \n",
      "\n",
      "Epoch 17/30\n",
      "f1 test  0.7739\n",
      "f1 dev  0.7995 \n",
      "\n",
      "Epoch 18/30\n",
      "f1 test  0.7853\n",
      "f1 dev  0.8075 \n",
      "\n",
      "Epoch 19/30\n",
      "f1 test  0.7942\n",
      "f1 dev  0.8177 \n",
      "\n",
      "Epoch 20/30\n",
      "f1 test  0.7763\n",
      "f1 dev  0.801 \n",
      "\n",
      "Epoch 21/30\n",
      "f1 test  0.7911\n",
      "f1 dev  0.8198 \n",
      "\n",
      "Epoch 22/30\n",
      "f1 test  0.7832\n",
      "f1 dev  0.8158 \n",
      "\n",
      "Epoch 23/30\n",
      "f1 test  0.789\n",
      "f1 dev  0.8233 \n",
      "\n",
      "Epoch 24/30\n",
      "f1 test  0.7939\n",
      "f1 dev  0.8181 \n",
      "\n",
      "Epoch 25/30\n",
      "f1 test  0.7926\n",
      "f1 dev  0.828 \n",
      "\n",
      "Epoch 26/30\n",
      "f1 test  0.796\n",
      "f1 dev  0.8265 \n",
      "\n",
      "Epoch 27/30\n",
      "f1 test  0.7859\n",
      "f1 dev  0.8219 \n",
      "\n",
      "Epoch 28/30\n",
      "f1 test  0.8044\n",
      "f1 dev  0.8335 \n",
      "\n",
      "Epoch 29/30\n",
      "f1 test  0.7924\n",
      "f1 dev  0.8292 \n",
      "\n",
      "Final F1 test score:  0.7924034325587959\n",
      "Training finished.\n"
     ]
    }
   ],
   "source": [
    "self.f1_test_history_LSTM, self.f1_dev_history_LSTM = self.train(self.modelLSTM)"
   ]
  },
  {
   "cell_type": "code",
   "execution_count": 51,
   "metadata": {},
   "outputs": [
    {
     "name": "stdout",
     "output_type": "stream",
     "text": [
      "Epoch 0/30\n",
      "f1 test  0.639\n",
      "f1 dev  0.634 \n",
      "\n",
      "Epoch 1/30\n",
      "f1 test  0.7114\n",
      "f1 dev  0.7224 \n",
      "\n",
      "Epoch 2/30\n",
      "f1 test  0.7337\n",
      "f1 dev  0.7419 \n",
      "\n",
      "Epoch 3/30\n",
      "f1 test  0.7665\n",
      "f1 dev  0.7843 \n",
      "\n",
      "Epoch 4/30\n",
      "f1 test  0.7719\n",
      "f1 dev  0.8065 \n",
      "\n",
      "Epoch 5/30\n",
      "f1 test  0.7773\n",
      "f1 dev  0.8077 \n",
      "\n",
      "Epoch 6/30\n",
      "f1 test  0.8045\n",
      "f1 dev  0.8257 \n",
      "\n",
      "Epoch 7/30\n",
      "f1 test  0.7975\n",
      "f1 dev  0.8241 \n",
      "\n",
      "Epoch 8/30\n",
      "f1 test  0.8064\n",
      "f1 dev  0.8324 \n",
      "\n",
      "Epoch 9/30\n",
      "f1 test  0.8026\n",
      "f1 dev  0.8319 \n",
      "\n",
      "Epoch 10/30\n",
      "f1 test  0.8165\n",
      "f1 dev  0.8543 \n",
      "\n",
      "Epoch 11/30\n",
      "f1 test  0.7993\n",
      "f1 dev  0.8327 \n",
      "\n",
      "Epoch 12/30\n",
      "f1 test  0.8295\n",
      "f1 dev  0.8656 \n",
      "\n",
      "Epoch 13/30\n",
      "f1 test  0.8254\n",
      "f1 dev  0.8611 \n",
      "\n",
      "Epoch 14/30\n",
      "f1 test  0.8209\n",
      "f1 dev  0.8531 \n",
      "\n",
      "Epoch 15/30\n",
      "f1 test  0.8256\n",
      "f1 dev  0.8759 \n",
      "\n",
      "Epoch 16/30\n",
      "f1 test  0.8384\n",
      "f1 dev  0.8714 \n",
      "\n",
      "Epoch 17/30\n",
      "f1 test  0.8388\n",
      "f1 dev  0.88 \n",
      "\n",
      "Epoch 18/30\n",
      "f1 test  0.8445\n",
      "f1 dev  0.8854 \n",
      "\n",
      "Epoch 19/30\n",
      "f1 test  0.8387\n",
      "f1 dev  0.8826 \n",
      "\n",
      "Epoch 20/30\n",
      "f1 test  0.8467\n",
      "f1 dev  0.8872 \n",
      "\n",
      "Epoch 21/30\n",
      "f1 test  0.8533\n",
      "f1 dev  0.8913 \n",
      "\n",
      "Epoch 22/30\n",
      "f1 test  0.8478\n",
      "f1 dev  0.8934 \n",
      "\n",
      "Epoch 23/30\n",
      "f1 test  0.8556\n",
      "f1 dev  0.8925 \n",
      "\n",
      "Epoch 24/30\n",
      "f1 test  0.8477\n",
      "f1 dev  0.8988 \n",
      "\n",
      "Epoch 25/30\n",
      "f1 test  0.8576\n",
      "f1 dev  0.8965 \n",
      "\n",
      "Epoch 26/30\n",
      "f1 test  0.8587\n",
      "f1 dev  0.894 \n",
      "\n",
      "Epoch 27/30\n",
      "f1 test  0.8544\n",
      "f1 dev  0.9 \n",
      "\n",
      "Epoch 28/30\n",
      "f1 test  0.854\n",
      "f1 dev  0.9029 \n",
      "\n",
      "Epoch 29/30\n",
      "f1 test  0.8564\n",
      "f1 dev  0.9031 \n",
      "\n",
      "Final F1 test score:  0.8564312747667957\n",
      "Training finished.\n"
     ]
    }
   ],
   "source": [
    "self.f1_test_history, self.f1_dev_history = self.train(self.model)"
   ]
  },
  {
   "cell_type": "markdown",
   "metadata": {},
   "source": [
    "The LSTM model has 0.79 F1 score, the BLSTM model reach 0.85 F1 score."
   ]
  },
  {
   "cell_type": "code",
   "execution_count": 44,
   "metadata": {},
   "outputs": [
    {
     "name": "stdout",
     "output_type": "stream",
     "text": [
      "Model weights saved.\n",
      "Model weights cleared.\n"
     ]
    }
   ],
   "source": [
    "# save model\n",
    "self.modelName = \"{}_{}_{}_{}_{}_{}_{}\".format(self.epochs, \n",
    "                                                self.dropout, \n",
    "                                                self.dropout_recurrent, \n",
    "                                                self.lstm_state_size,\n",
    "                                                self.conv_size,\n",
    "                                                self.learning_rate,\n",
    "                                                self.optimizer.__class__.__name__\n",
    "                                               )\n",
    "\n",
    "modelName = self.modelName + \".h5\"\n",
    "self.model.save(modelName)\n",
    "print(\"Model weights saved.\")\n",
    "\n",
    "self.model.set_weights(self.init_weights)  # clear model\n",
    "print(\"Model weights cleared.\")"
   ]
  },
  {
   "cell_type": "code",
   "execution_count": 45,
   "metadata": {},
   "outputs": [
    {
     "name": "stdout",
     "output_type": "stream",
     "text": [
      "LSTM Model weights saved.\n",
      "LSTM Model weights cleared.\n"
     ]
    }
   ],
   "source": [
    "# save model\n",
    "self.modelNameLSTM = \"{}_{}_{}_{}_{}_{}_{}_LSTM\".format(self.epochs, \n",
    "                                                self.dropout, \n",
    "                                                self.dropout_recurrent, \n",
    "                                                self.lstm_state_size,\n",
    "                                                self.conv_size,\n",
    "                                                self.learning_rate,\n",
    "                                                self.optimizer.__class__.__name__\n",
    "                                               )\n",
    "\n",
    "modelNameLSTM = self.modelNameLSTM + \".h5\"\n",
    "self.modelLSTM.save(modelNameLSTM)\n",
    "print(\"LSTM Model weights saved.\")\n",
    "\n",
    "self.modelLSTM.set_weights(self.init_weightsLSTM)  # clear model\n",
    "print(\"LSTM Model weights cleared.\")"
   ]
  },
  {
   "cell_type": "markdown",
   "metadata": {},
   "source": [
    "# 5. Model Results"
   ]
  },
  {
   "cell_type": "code",
   "execution_count": 62,
   "metadata": {},
   "outputs": [
    {
     "name": "stdout",
     "output_type": "stream",
     "text": [
      "predLabels\n",
      "['I-LOC\\n', 'B-LOC\\n', 'B-LOC\\n', 'B-LOC\\n', 'I-LOC\\n', 'B-LOC\\n', 'I-PER\\n', 'B-LOC\\n', 'B-MISC\\n', 'B-MISC\\n']\n",
      "correctLabels\n",
      "['I-LOC\\n', 'O\\n', 'O\\n', 'O\\n', 'I-LOC\\n', 'O\\n', 'I-LOC\\n', 'O\\n', 'O\\n', 'O\\n']\n"
     ]
    }
   ],
   "source": [
    "# a sample prediction\n",
    "predLabels, correctLabels = self.tag_dataset(self.test_batch[100:110], self.model)\n",
    "predLabels = [self.idx2Label[x[0]] for x in predLabels]\n",
    "correctLabels = [self.idx2Label[x[0]] for x in correctLabels]\n",
    "print(\"predLabels\")\n",
    "print(predLabels)\n",
    "print(\"correctLabels\")\n",
    "print(correctLabels)"
   ]
  },
  {
   "cell_type": "markdown",
   "metadata": {},
   "source": [
    "## Shall we accept the results?\n",
    "We use f1 score to evaluate the model. We can see that the model reach a 85% F1-score on testset(low false positives and low false negatives). As we split the dataset into three parts (trainset, development set, testset). We could say that the results on testset is reliable, so the performance of BLSTM+CNN is good."
   ]
  },
  {
   "cell_type": "code",
   "execution_count": 39,
   "metadata": {},
   "outputs": [
    {
     "name": "stdout",
     "output_type": "stream",
     "text": [
      "[[ 0.  1.  2.  3.  4.  5.  6.  7.  8.  9. 10. 11. 12. 13. 14. 15. 16. 17.\n",
      "  18. 19. 20. 21. 22. 23. 24. 25. 26. 27. 28. 29.]]\n",
      "[[0.47268544 0.6371039  0.68963012 0.7182799  0.73589157 0.71844107\n",
      "  0.75494378 0.76645869 0.78561965 0.79008524 0.79299609 0.79742328\n",
      "  0.81072501 0.81114695 0.82122092 0.8084953  0.8216738  0.8290347\n",
      "  0.81674619 0.83746829 0.83148658 0.83301593 0.81919721 0.83456923\n",
      "  0.82726286 0.83991516 0.83506074 0.85287754 0.8435565  0.83696071]]\n",
      "[[0.46785762 0.64634293 0.68818001 0.72107004 0.76305263 0.73253103\n",
      "  0.76032113 0.77199597 0.80233896 0.82365662 0.81901212 0.82780113\n",
      "  0.84766776 0.83892075 0.84556882 0.82817814 0.84835442 0.8511912\n",
      "  0.84591836 0.86841254 0.85819993 0.87285797 0.85384943 0.87074726\n",
      "  0.86082469 0.87337022 0.86956692 0.88910343 0.87951772 0.88145146]]\n",
      "Model performance written to file.\n"
     ]
    }
   ],
   "source": [
    "def writeToFile(self):\n",
    "    \"\"\"Write output to file\"\"\"\n",
    "\n",
    "    # .txt file format\n",
    "    # [epoch  ]\n",
    "    # [f1_test]\n",
    "    # [f1_dev ]\n",
    "\n",
    "    output = np.matrix([[int(i) for i in range(self.epochs)], self.f1_test_history, self.f1_dev_history])\n",
    "\n",
    "    fileName = self.modelName + \".txt\"\n",
    "    with open(fileName,'wb') as f:\n",
    "        for line in output:\n",
    "            np.savetxt(f, line, fmt='%.5f')\n",
    "            print(line)\n",
    "\n",
    "    print(\"Model performance written to file.\")\n",
    "\n",
    "CNN_BLSTM.writeToFile = writeToFile\n",
    "self.writeToFile()"
   ]
  },
  {
   "cell_type": "markdown",
   "metadata": {},
   "source": [
    "## How well did the model perform"
   ]
  },
  {
   "cell_type": "markdown",
   "metadata": {},
   "source": [
    "When running the code on our local machine, we achieve an F1 score of ~85% with only 30 epochs and around 1 hour of training with the above dropout, LSTM state size, convolutional width and optimiser parameters (see image below). Compared to LSTM, BLSTM converges faster and reach a higher F1 score."
   ]
  },
  {
   "cell_type": "code",
   "execution_count": 53,
   "metadata": {},
   "outputs": [
    {
     "data": {
      "image/png": "[encoded data removed]",
      "text/plain": [
       "<Figure size 432x288 with 1 Axes>"
      ]
     },
     "metadata": {
      "needs_background": "light"
     },
     "output_type": "display_data"
    }
   ],
   "source": [
    "plt.plot(self.f1_test_history, label = \"F1 test BLSTM\")\n",
    "plt.plot(self.f1_dev_history, label = \"F1 dev BLSTM\")\n",
    "plt.plot(self.f1_test_history_LSTM, label = \"F1 test LSTM\")\n",
    "plt.plot(self.f1_dev_history_LSTM, label = \"F1 dev LSTM\")\n",
    "plt.xlabel(\"Epochs\")\n",
    "plt.ylabel(\"F1 score\")\n",
    "plt.legend()\n",
    "plt.show()"
   ]
  },
  {
   "cell_type": "markdown",
   "metadata": {},
   "source": [
    "## Analysis of model output"
   ]
  },
  {
   "cell_type": "code",
   "execution_count": 41,
   "metadata": {},
   "outputs": [
    {
     "name": "stdout",
     "output_type": "stream",
     "text": [
      "B-ORG: 0.01%\n",
      "I-ORG: 4.91%\n",
      "B-MISC: 0.02%\n",
      "I-MISC: 2.24%\n",
      "B-LOC: 0.01%\n",
      "I-LOC: 4.07%\n",
      "B-PER: 0.0%\n",
      "I-PER: 5.47%\n",
      "O: 83.28%\n"
     ]
    }
   ],
   "source": [
    "category_count = {\"B-ORG\\n\": 0, \"I-ORG\\n\":0, \"B-MISC\\n\": 0, \"I-MISC\\n\":0, \"B-LOC\\n\": 0, \"I-LOC\\n\": 0, \"B-PER\\n\": 0, \"I-PER\\n\": 0, \"O\\n\": 0}\n",
    "total_count = 0\n",
    "\n",
    "for sentence in self.trainSentences:\n",
    "    for word in sentence:\n",
    "        if word[2] in category_count.keys():\n",
    "            category_count[word[2]] += 1\n",
    "            total_count += 1\n",
    "\n",
    "for category, count in category_count.items():\n",
    "    print(\"{}: {}%\".format(category.replace(\"\\n\", \"\"), round((count/total_count)*100, 2)))   "
   ]
  },
  {
   "cell_type": "markdown",
   "metadata": {},
   "source": [
    "## Possible Source of Error\n",
    "1. We only use 30 epochs instead of 80 epochs, we might not reach the best optimization\n",
    "2. We did not gird search the hyper parameters (hyper-parameter choice is likely sensitive to the type of word embeddings used, optimizing them all will likely produce better results and provide a fairer comparison of word embedding quality)\n",
    "3. Application of existing lexicons is not flexible."
   ]
  },
  {
   "cell_type": "markdown",
   "metadata": {},
   "source": [
    "# 6. Conclusion\n",
    "In this work, we use Bidirectional LSTM + CNN model to solve the name entity recogonition problem (tagging entities in text with their corresponding type). We use the Reuters News Corpus Dataset to test our model. In 1-hour training, we achieve an F1 score of ~85% within 30 epochs.To conclude, compared to LSTM, bidirectional LSTMs are a very powerful and flexible type of neural network for named entity recognition. \n",
    "\n",
    "## Futurework\n",
    "We may try more effective construction and application of lexicons and word embeddings in the future.\n"
   ]
  },
  {
   "cell_type": "code",
   "execution_count": null,
   "metadata": {},
   "outputs": [],
   "source": []
  }
 ],
 "metadata": {
  "kernelspec": {
   "display_name": "Python 3",
   "language": "python",
   "name": "python3"
  },
  "language_info": {
   "codemirror_mode": {
    "name": "ipython",
    "version": 3
   },
   "file_extension": ".py",
   "mimetype": "text/x-python",
   "name": "python",
   "nbconvert_exporter": "python",
   "pygments_lexer": "ipython3",
   "version": "3.7.5"
  }
 },
 "nbformat": 4,
 "nbformat_minor": 2
}
